{
 "cells": [
  {
   "cell_type": "code",
   "execution_count": 27,
   "metadata": {},
   "outputs": [
    {
     "name": "stdout",
     "output_type": "stream",
     "text": [
      " *\n",
      " * *\n",
      " * * *\n",
      " * * * *\n",
      " * * * * *\n",
      " * * * *\n",
      " * * *\n",
      " * *\n",
      " *\n"
     ]
    }
   ],
   "source": [
    "#1. Create the below pattern using nested for loop in Python.\n",
    "'''\n",
    "*\n",
    "* *\n",
    "* * *\n",
    "* * * *\n",
    "* * * * *\n",
    "* * * *\n",
    "* * *\n",
    "* *\n",
    "*\n",
    "'''\n",
    "for i in range(1,5):\n",
    "    print(i*' *')\n",
    "for l in range(5,0,-1):\n",
    "    print(l*' *')"
   ]
  },
  {
   "cell_type": "code",
   "execution_count": 30,
   "metadata": {},
   "outputs": [
    {
     "name": "stdout",
     "output_type": "stream",
     "text": [
      "input word: fahad\n",
      "output: dahaf\n"
     ]
    }
   ],
   "source": [
    "#2. Write a Python program to reverse a word after accepting the input from the user.\n",
    "k=input('input word: ')\n",
    "print('output:',k[::-1])"
   ]
  },
  {
   "cell_type": "code",
   "execution_count": 68,
   "metadata": {},
   "outputs": [
    {
     "name": "stdout",
     "output_type": "stream",
     "text": [
      "15\n"
     ]
    }
   ],
   "source": [
    "#3Write a Python Program to implement your own myreduce() function which works exactlylike Python's built-in function reduce()\n",
    "\n",
    "def myreduce():\n",
    "    count=''\n",
    "    list1=[1,2,3,4,5]\n",
    "    for i in list1:\n",
    "        if(type(i)==str):\n",
    "            count+=i\n",
    "        else:\n",
    "            count=0\n",
    "            for i in list1:\n",
    "                count+=i\n",
    "    print(count)\n",
    "myreduce()"
   ]
  },
  {
   "cell_type": "code",
   "execution_count": 90,
   "metadata": {},
   "outputs": [
    {
     "name": "stdout",
     "output_type": "stream",
     "text": [
      "[5]\n"
     ]
    }
   ],
   "source": [
    "#4.Write a Python program to implement your own myfilter() function which works exactlylike Python's built-in function filter()\n",
    "def myfilter():\n",
    "    l=[]\n",
    "    list2=[1,2,3,4,5,-1]\n",
    "    for i in list2:\n",
    "        if(i>4):\n",
    "            l.append(i)\n",
    "    print(l)\n",
    "myfilter()"
   ]
  },
  {
   "cell_type": "code",
   "execution_count": 4,
   "metadata": {},
   "outputs": [
    {
     "name": "stdout",
     "output_type": "stream",
     "text": [
      "['A', 'C', 'A', 'D', 'G', 'I', 'L', 'D']\n",
      "['x', 'xx', 'xxx', 'xxxx', 'y', 'yy', 'yyy', 'yyyy', 'z', 'zz', 'zzz', 'zzzz']\n",
      "['x', 'xx', 'xxx', 'xxxx', 'y', 'yy', 'yyy', 'yyyy', 'z', 'zz', 'zzz', 'zzzz']\n",
      "[[2, 3, 4, 5], [3, 4, 5, 6], [4, 5, 6, 7], [5, 6, 7, 8]]\n",
      "[(1, 1), (2, 1), (3, 1), (1, 2), (2, 2), (3, 2), (1, 3), (2, 3), (3, 3)]\n",
      "['x', 'y', 'z', 'xx', 'yy', 'zz', 'xxx', 'yyy', 'zzz', 'xxxx', 'yyyy', 'zzzz']\n",
      "[[2], [3], [4], [3], [4], [5], [4], [5], [6]]\n"
     ]
    }
   ],
   "source": [
    "'''5. Implement List comprehensions to produce the following lists.  \n",
    "Write List comprehensions to produce the following Lists \n",
    "['A', 'C', 'A', 'D', 'G', 'I', ’L’, ‘ D’] \n",
    "['x', 'xx', 'xxx', 'xxxx', 'y', 'yy', 'yyy', 'yyyy', 'z', 'zz', 'zzz', 'zzzz']  \n",
    "['x', 'y', 'z', 'xx', 'yy', 'zz', 'xxx', 'yyy', 'zzz', 'xxxx', 'yyyy', 'zzzz']  \n",
    "[[2], [3], [4], [3], [4], [5], [4], [5], [6]] \n",
    "[[2, 3, 4, 5], [3, 4, 5, 6], [4, 5, 6, 7], [5, 6, 7, 8]] \n",
    "[(1, 1), (2, 1), (3, 1), (1, 2), (2, 2), (3, 2), (1, 3), (2, 3), (3, 3)]\n",
    "'''\n",
    "print(['A','C','A','D','G','I','L','D'])\n",
    "\n",
    "list2='x','y','z'\n",
    "final=[]\n",
    "for i in list2:\n",
    "    count=1\n",
    "    while(count<5):\n",
    "        l=(count*i)\n",
    "        final.append(l)\n",
    "        count+=1\n",
    "print(final)\n",
    "\n",
    "list3='x','y','z'\n",
    "final=[]\n",
    "for i in list3:\n",
    "    final.append(i)\n",
    "    final.append(i*2)\n",
    "    final.append(i*3)\n",
    "    final.append(i*4)\n",
    "print(final)\n",
    "\n",
    "\n",
    "a=[2,3,4,5,6,7,8]\n",
    "main=[]\n",
    "for i in range(0,4):\n",
    "    fir=(a[i:i+4])\n",
    "    main.append(fir)\n",
    "print(main) \n",
    "\n",
    "\n",
    "a=[1,2,3]\n",
    "b=[]\n",
    "for i in a:\n",
    "    for l in a:\n",
    "        o=((l,i))\n",
    "        b.append(o)\n",
    "print(b)\n",
    "\n",
    "\n",
    "a='x'\n",
    "b='y'\n",
    "c='z'\n",
    "final=[]\n",
    "count=1\n",
    "while count<5:\n",
    "    k=a*count,b*count,c*count\n",
    "    count+=1\n",
    "    final.extend(k)\n",
    "print(final)\n",
    "\n",
    "\n",
    "\n",
    "list1=[2],[3],[4],[5],[6],[7]\n",
    "fi=[]\n",
    "a=list1[0:3]\n",
    "b=list1[1:4]\n",
    "c=list1[2:5]\n",
    "fi.extend(a+b+c)\n",
    "print(fi)"
   ]
  },
  {
   "cell_type": "code",
   "execution_count": 73,
   "metadata": {},
   "outputs": [
    {
     "name": "stdout",
     "output_type": "stream",
     "text": [
      "[2002, 2009, 2016, 2023, 2037, 2044, 2051, 2058, 2072, 2079, 2086, 2093, 2107, 2114, 2121, 2128, 2142, 2149, 2156, 2163, 2177, 2184, 2191, 2198, 2212, 2219, 2226, 2233, 2247, 2254, 2261, 2268, 2282, 2289, 2296, 2303, 2317, 2324, 2331, 2338, 2352, 2359, 2366, 2373, 2387, 2394, 2401, 2408, 2422, 2429, 2436, 2443, 2457, 2464, 2471, 2478, 2492, 2499, 2506, 2513, 2527, 2534, 2541, 2548, 2562, 2569, 2576, 2583, 2597, 2604, 2611, 2618, 2632, 2639, 2646, 2653, 2667, 2674, 2681, 2688, 2702, 2709, 2716, 2723, 2737, 2744, 2751, 2758, 2772, 2779, 2786, 2793, 2807, 2814, 2821, 2828, 2842, 2849, 2856, 2863, 2877, 2884, 2891, 2898, 2912, 2919, 2926, 2933, 2947, 2954, 2961, 2968, 2982, 2989, 2996, 3003, 3017, 3024, 3031, 3038, 3052, 3059, 3066, 3073, 3087, 3094, 3101, 3108, 3122, 3129, 3136, 3143, 3157, 3164, 3171, 3178, 3192, 3199]\n"
     ]
    }
   ],
   "source": [
    "#6 Write a program which will find all such numbers which are divisible by 7 but are not a multiple of 5, between 2000 and 3200 \n",
    "#(both included). The numbers obtained should be printed  in a comma-separated sequence on a single line. \n",
    "li=[]\n",
    "for i in range(2000,3201):\n",
    "    if(i%7==0 and i%5!=0):\n",
    "        li.append(i)\n",
    "print(li)\n"
   ]
  },
  {
   "cell_type": "code",
   "execution_count": 5,
   "metadata": {},
   "outputs": [
    {
     "name": "stdout",
     "output_type": "stream",
     "text": [
      "Enter first name:fahad\n",
      "Enter last name:faizi\n",
      "dahaf iziaf\n"
     ]
    }
   ],
   "source": [
    "#7 Write a Python program to accept the user's first and last name and then getting them printed in the the reverse order with\n",
    "#a space between first name and last name. \n",
    "def prin():\n",
    "    k=input('Enter first name:')\n",
    "    l=input('Enter last name:')\n",
    "    k=k[::-1]\n",
    "    l=l[::-1]\n",
    "    print(k+' '+l)\n",
    "prin()"
   ]
  },
  {
   "cell_type": "code",
   "execution_count": 18,
   "metadata": {},
   "outputs": [
    {
     "name": "stdout",
     "output_type": "stream",
     "text": [
      "904.7786842338603  cm^3\n"
     ]
    }
   ],
   "source": [
    "#8. Write a Python program to find the volume of a sphere with diameter 12 cm.Formula: V=4/3 * π * r 3 \n",
    "import math\n",
    "def volume(d):\n",
    "    r=d/2\n",
    "    v=(4/3)*(math.pi)*(r**3)\n",
    "    print(v,' cm^3')\n",
    "volume(12)"
   ]
  },
  {
   "cell_type": "code",
   "execution_count": null,
   "metadata": {},
   "outputs": [],
   "source": []
  }
 ],
 "metadata": {
  "kernelspec": {
   "display_name": "Python 3",
   "language": "python",
   "name": "python3"
  },
  "language_info": {
   "codemirror_mode": {
    "name": "ipython",
    "version": 3
   },
   "file_extension": ".py",
   "mimetype": "text/x-python",
   "name": "python",
   "nbconvert_exporter": "python",
   "pygments_lexer": "ipython3",
   "version": "3.8.5"
  }
 },
 "nbformat": 4,
 "nbformat_minor": 4
}
